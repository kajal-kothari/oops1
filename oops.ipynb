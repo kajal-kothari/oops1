{
  "nbformat": 4,
  "nbformat_minor": 0,
  "metadata": {
    "colab": {
      "provenance": []
    },
    "kernelspec": {
      "name": "python3",
      "display_name": "Python 3"
    },
    "language_info": {
      "name": "python"
    }
  },
  "cells": [
    {
      "cell_type": "markdown",
      "source": [
        "1.What is Object-Oriented Programming (OOP)\n",
        "\n",
        "Object-Oriented Programming (OOP) is a programming paradigm that uses \"objects\" to design software. It is based on several key concepts that help organize code in a way that is modular, reusable, and easier to maintain. The main principles of OOP include:\n",
        "\n",
        "Classes and Objects:\n",
        "\n",
        "Class: A blueprint or template for creating objects. It defines a set of attributes (data) and methods (functions) that the created objects will have.\n",
        "Object: An instance of a class. It represents a specific entity that has the properties and behaviors defined by its class.\n",
        "\n",
        "\n",
        "Encapsulation:\n",
        "\n",
        "This principle involves bundling the data (attributes) and methods (functions) that operate on the data into a single unit, or class. It restricts direct access to some of the object's components, which can help prevent unintended interference and misuse of the data. Access to the data is typically controlled through public methods (getters and setters).\n",
        "\n",
        "Inheritance:\n",
        "\n",
        "Inheritance allows a new class (subclass or derived class) to inherit properties and methods from an existing class (superclass or base class). This promotes code reusability and establishes a hierarchical relationship between classes. A subclass can also override or extend the functionality of the superclass.\n",
        "\n",
        "Polymorphism:\n",
        "\n",
        "Polymorphism allows methods to do different things based on the object it is acting upon, even if they share the same name. This can be achieved through method overriding (where a subclass provides a specific implementation of a method that is already defined in its superclass) and method overloading (where multiple methods have the same name but differ in parameters).\n",
        "\n",
        "Abstraction:\n",
        "\n",
        "Abstraction involves hiding complex implementation details and exposing only the necessary parts of an object. This simplifies the interaction with the object and allows the user to focus on high-level operations without needing to understand the underlying complexity.\n",
        "OOP is widely used in many programming languages, including Java, C++, Python, and C#. It helps developers create more organized, scalable, and maintainable code, making it easier to manage large software projects."
      ],
      "metadata": {
        "id": "aPErKTW0C8Kk"
      }
    },
    {
      "cell_type": "markdown",
      "source": [
        "2.What is a class in OOP?\n",
        "\n",
        "In Object-Oriented Programming (OOP), a class is a blueprint or template for creating objects. It defines a set of attributes (also known as properties or fields) and methods (functions or procedures) that the objects created from the class will have. Essentially, a class encapsulates data for the object and the methods that operate on that data.\n",
        "\n",
        "Key Components of a Class:\n",
        "\n",
        "Attributes (Properties):\n",
        "\n",
        "These are the data members of the class that hold the state or characteristics of the objects. For example, in a Car class, attributes might include color, make, model, and year.\n",
        "\n",
        "Methods (Functions):\n",
        "\n",
        "These are the functions defined within the class that describe the behaviors or actions that the objects can perform. For example, a Car class might have methods like start(), stop(), and accelerate().\n",
        "\n",
        "Constructor:\n",
        "\n",
        "A special method that is called when an object of the class is created. It is often used to initialize the attributes of the class. In many programming languages, the constructor has the same name as the class.\n",
        "\n",
        "Access Modifiers:\n",
        "\n",
        "These define the visibility of the class members (attributes and methods). Common access modifiers include:\n",
        "Public: Members are accessible from outside the class.\n",
        "Private: Members are accessible only within the class itself.\n",
        "Protected: Members are accessible within the class and by derived classes.\n",
        "\n"
      ],
      "metadata": {
        "id": "v0D3W9vbDbFQ"
      }
    },
    {
      "cell_type": "markdown",
      "source": [
        "3. What is an object in OOP?\n",
        "\n",
        "In Object-Oriented Programming (OOP), an object is an instance of a class. It represents a specific entity that has its own state and behavior, as defined by the class from which it is created. Objects are the fundamental building blocks of OOP, allowing developers to model real-world entities and concepts in a way that is intuitive and manageable.\n",
        "\n",
        "Key Characteristics of an Object:\n",
        "\n",
        "State:\n",
        "\n",
        "The state of an object is represented by its attributes (or properties). These attributes hold data that describe the characteristics of the object. For example, if you have a Car class, an object of that class might have attributes like color, make, model, and year, which define its specific state.\n",
        "\n",
        "Behavior:\n",
        "\n",
        "The behavior of an object is defined by its methods (or functions). These methods represent the actions that the object can perform. Continuing with the Car example, methods might include start(), stop(), and accelerate(), which dictate how the car behaves.\n",
        "\n",
        "Identity:\n",
        "\n",
        "Each object has a unique identity, which distinguishes it from other objects, even if they are instances of the same class. This identity is typically managed by the programming language and can be thought of as the memory address where the object is stored.\n"
      ],
      "metadata": {
        "id": "uTdYqCEqD0U4"
      }
    },
    {
      "cell_type": "markdown",
      "source": [
        "4.What is the difference between abstraction and encapsulation?\n",
        "\n",
        "Abstraction and encapsulation are two fundamental concepts in object-oriented programming (OOP), and while they are related, they serve different purposes. Here’s a breakdown of the differences:\n",
        "\n",
        "Abstraction\n",
        "\n",
        "Definition: Abstraction is the concept of hiding the complex reality while exposing only the necessary parts. It focuses on the essential qualities of an object rather than its specific characteristics.\n",
        "\n",
        "Purpose: The main goal of abstraction is to reduce complexity and increase efficiency by allowing the programmer to focus on interactions at a higher level without needing to understand all the details.\n",
        "\n",
        "Implementation: Abstraction can be achieved through abstract classes and interfaces in programming languages. For example, a Vehicle class can be an abstract representation of all vehicles, with methods like start() and stop(), without specifying how these methods are implemented for each specific vehicle type.\n",
        "\n",
        "Example: When you drive a car, you use the steering wheel, pedals, and gear shift without needing to understand the intricate workings of the engine or the transmission system.\n",
        "\n",
        "Encapsulation\n",
        "\n",
        "Definition: Encapsulation is the bundling of data (attributes) and methods (functions) that operate on the data into a single unit, typically a class. It restricts direct access to some of the object's components, which is a means of preventing unintended interference and misuse.\n",
        "\n",
        "Purpose: The main goal of encapsulation is to protect the integrity of the data and to hide the internal state of the object from the outside world. This helps in maintaining control over the data and ensures that it can only be modified in well-defined ways.\n",
        "\n",
        "Implementation: Encapsulation is implemented using access modifiers (like private, protected, and public) to restrict access to the class's data and methods. For example, a class may have private variables that can only be accessed or modified through public getter and setter methods.\n",
        "\n",
        "Example: In a bank account class, the balance might be a private variable. You can only modify it through methods like deposit() and withdraw(), which enforce rules about how the balance can change.\n",
        "\n"
      ],
      "metadata": {
        "id": "cjfXsyTfEOZ6"
      }
    },
    {
      "cell_type": "markdown",
      "source": [
        "5.What are dunder methods in Python?\n",
        "\n",
        "Dunder methods, short for \"double underscore methods,\" are special methods in Python that have double underscores at the beginning and end of their names. They are also known as \"magic methods\" or \"special methods.\" These methods allow you to define the behavior of your objects in various contexts, enabling you to customize how instances of your classes behave with built-in operations.\n",
        "\n",
        "Key Characteristics of Dunder Methods:\n",
        "\n",
        "Naming Convention: Dunder methods are named with a double underscore prefix and suffix (e.g., __init__, __str__).\n",
        "\n",
        "Automatic Invocation: They are automatically called by Python in certain situations, such as when performing operations on objects or when using built-in functions.\n",
        "\n",
        "Customization: They allow you to define how your objects interact with Python's syntax and built-in functions, making your classes more intuitive and easier to use.\n",
        "\n"
      ],
      "metadata": {
        "id": "HnnE-_kOFQsp"
      }
    },
    {
      "cell_type": "markdown",
      "source": [
        "6.Explain the concept of inheritance in OOP?\n",
        "\n",
        "Inheritance is a fundamental concept in object-oriented programming (OOP) that allows a new class (called a subclass or derived class) to inherit properties and behaviors (attributes and methods) from an existing class (called a superclass or base class). This mechanism promotes code reusability, establishes a hierarchical relationship between classes, and allows for the creation of more complex data structures.\n",
        "\n",
        "Key Concepts of Inheritance\n",
        "\n",
        "Base Class (Superclass): The class from which properties and methods are inherited. It serves as a template for the derived classes.\n",
        "\n",
        "Derived Class (Subclass): The class that inherits from the base class. It can add new properties and methods or override existing ones from the base class.\n",
        "\n",
        "Reusability: Inheritance allows developers to reuse code. Instead of writing the same code multiple times, you can define common functionality in a base class and extend it in derived classes.\n",
        "\n",
        "Method Overriding: A subclass can provide a specific implementation of a method that is already defined in its superclass. This allows for polymorphic behavior, where the same method can behave differently based on the object that calls it.\n",
        "\n",
        "Multiple Inheritance: Some programming languages, like Python, support multiple inheritance, where a class can inherit from more than one base class. This allows for more complex relationships but can also lead to ambiguity (the \"diamond problem\").\n",
        "\n",
        "Single Inheritance: A subclass inherits from only one superclass. This is the most common form of inheritance.\n"
      ],
      "metadata": {
        "id": "U26L4V5HF0MQ"
      }
    },
    {
      "cell_type": "markdown",
      "source": [
        "7. What is polymorphism in OOP?\n",
        "\n",
        "Polymorphism is a core concept in object-oriented programming (OOP) that allows objects of different classes to be treated as objects of a common superclass. It enables a single interface to represent different underlying forms (data types), allowing for flexibility and the ability to invoke methods on objects without needing to know their specific class type.\n",
        "\n",
        "Key Aspects of Polymorphism\n",
        "\n",
        "Method Overriding: This occurs when a subclass provides a specific implementation of a method that is already defined in its superclass. When you call this method on an instance of the subclass, the subclass's version is executed, even if the reference is of the superclass type.\n",
        "\n",
        "Method Overloading: This is a form of polymorphism where multiple methods in the same class have the same name but different parameters (different type or number of parameters). Note that method overloading is not supported in Python in the same way as in some other languages, but it can be simulated using default arguments or variable-length arguments.\n",
        "\n",
        "Duck Typing: In dynamically typed languages like Python, polymorphism is often achieved through duck typing, which means that the type or class of an object is less important than the methods it defines. If an object behaves like a certain type (i.e., it has the required methods), it can be treated as that type.\n",
        "\n"
      ],
      "metadata": {
        "id": "uC_RytswGXTq"
      }
    },
    {
      "cell_type": "markdown",
      "source": [
        "8.How is encapsulation achieved in Python?\n",
        "\n",
        "In Python, encapsulation is achieved primarily through the use of access modifiers, which control the visibility of class attributes and methods. Here’s how encapsulation is implemented in Python:\n",
        "\n",
        "1. Public Attributes and Methods\n",
        "By default, all attributes and methods in a Python class are public, meaning they can be accessed from outside the class. This is the most basic level of encapsulation.\n",
        "\n",
        "2. Protected Attributes and Methods\n",
        "Protected attributes and methods are indicated by a single underscore prefix (_). This is a convention that suggests that these members are intended for internal use within the class and its subclasses. However, it does not prevent access from outside the class.\n",
        "\n",
        "3. Private Attributes and Methods\n",
        "Private attributes and methods are indicated by a double underscore prefix (__). This triggers name mangling, which means that the interpreter changes the name of the attribute or method to include the class name, making it harder to access from outside the class. This is a stronger form of encapsulation.\n",
        "\n",
        "4. Getter and Setter Methods\n",
        "To provide controlled access to private attributes, you can use getter and setter methods. This allows you to define how attributes can be accessed and modified, adding an additional layer of control."
      ],
      "metadata": {
        "id": "AggDmBiHGo-I"
      }
    },
    {
      "cell_type": "markdown",
      "source": [
        "9.What is a constructor in Python?\n",
        "\n",
        "In Python, a constructor is a special method that is automatically called when an instance (object) of a class is created. The primary purpose of a constructor is to initialize the attributes of the new object. In Python, the constructor method is defined using the __init__ method.\n",
        "\n",
        "Key Features of Constructors in Python\n",
        "\n",
        "Initialization: The constructor is used to set the initial state of an object by assigning values to its attributes.\n",
        "\n",
        "Automatic Invocation: The constructor is invoked automatically when a new object of the class is created, so you don't need to call it explicitly.\n",
        "\n",
        "Parameters: The constructor can take parameters, allowing you to pass values when creating an object. The first parameter of the constructor is always self, which refers to the instance being created.\n",
        "\n",
        "Default Values: You can provide default values for parameters in the constructor, making it optional to pass those values when creating an object.\n",
        "\n"
      ],
      "metadata": {
        "id": "HhmE1BGeHA9f"
      }
    },
    {
      "cell_type": "markdown",
      "source": [
        "10. What are class and static methods in Python\n",
        "\n",
        "In Python, class methods and static methods are two types of methods that can be defined within a class. They serve different purposes and have different behaviors compared to instance methods.\n",
        " Here’s a detailed explanation of both:\n",
        "\n",
        "Class Methods\n",
        "\n",
        "Definition: A class method is a method that is bound to the class rather than its instance. It can modify class state that applies across all instances of the class.\n",
        "\n",
        "Decorator: Class methods are defined using the @classmethod decorator.\n",
        "\n",
        "First Parameter: The first parameter of a class method is typically named cls, which refers to the class itself, not the instance.\n",
        "\n",
        "Usage: Class methods are often used for factory methods, which instantiate instances of the class using different parameters than those provided to the constructor.\n",
        "\n",
        "Static Methods\n",
        "\n",
        "Definition: A static method is a method that does not modify class or instance state. It behaves like a regular function but belongs to the class's namespace.\n",
        "\n",
        "Decorator: Static methods are defined using the @staticmethod decorator.\n",
        "\n",
        "No Implicit First Parameter: Static methods do not take self or cls as the first parameter. They do not have access to the instance (self) or the class (cls).\n",
        "\n",
        "Usage: Static methods are used when you want to define a utility function that is related to the class but does not need to access or modify class or instance data."
      ],
      "metadata": {
        "id": "5FYof5caHQeo"
      }
    },
    {
      "cell_type": "markdown",
      "source": [
        "11. What is method overloading in Python?\n",
        "\n",
        "Method overloading is a feature in some programming languages that allows multiple methods to have the same name but different parameters (different types or numbers of parameters). This enables a class to perform different tasks based on the input it receives.\n",
        "\n",
        "Method Overloading in Python\n",
        "In Python, traditional method overloading as seen in languages like Java or C++ is not directly supported. Instead, Python allows you to define a method with the same name, but the last defined method will override any previous definitions. However, you can achieve similar functionality using default arguments, variable-length arguments, or by checking the types of arguments within a single method.\n"
      ],
      "metadata": {
        "id": "imZS16S5Hr8K"
      }
    },
    {
      "cell_type": "markdown",
      "source": [
        "12.What is method overriding in OOP?\n",
        "\n",
        "Method overriding is a fundamental concept in object-oriented programming (OOP) that allows a subclass (derived class) to provide a specific implementation of a method that is already defined in its superclass (base class). When a method in a subclass has the same name, same parameters, and same return type as a method in its superclass, the subclass's method overrides the superclass's method.\n",
        "\n",
        "Key Features of Method Overriding\n",
        "\n",
        "Inheritance: Method overriding is only possible in the context of inheritance. A subclass inherits methods from its superclass and can override them to provide specific behavior.\n",
        "\n",
        "Same Signature: The overriding method in the subclass must have the same name, parameters, and return type as the method in the superclass.\n",
        "\n",
        "Dynamic Binding: Method overriding supports dynamic (or late) binding, meaning that the method that gets executed is determined at runtime based on the object type, not the reference type.\n",
        "\n"
      ],
      "metadata": {
        "id": "tXT8vznfH-rW"
      }
    },
    {
      "cell_type": "markdown",
      "source": [
        "13.What is a property decorator in Python?\n",
        "\n",
        "In Python, the property decorator is a built-in decorator that allows you to define methods in a class that can be accessed like attributes. It provides a way to manage the access to instance variables, enabling you to add getter, setter, and deleter functionality to class attributes while maintaining a clean and intuitive interface.\n",
        "\n",
        "Key Features of the Property Decorator\n",
        "Encapsulation: The property decorator helps encapsulate the internal representation of an attribute, allowing you to control how it is accessed and modified.\n",
        "\n",
        "Read-Only Properties: You can create read-only properties by defining only a getter method without a corresponding setter.\n",
        "\n",
        "Validation: You can add validation logic in the setter method to ensure that the values being assigned to an attribute meet certain criteria.\n",
        "\n",
        "Computed Properties: You can define properties that compute their value dynamically based on other attributes.\n",
        "\n"
      ],
      "metadata": {
        "id": "gR986AC0IMBq"
      }
    },
    {
      "cell_type": "markdown",
      "source": [
        "14. Why is polymorphism important in OOP?\n",
        "\n",
        "Polymorphism is a fundamental concept in object-oriented programming (OOP) that allows objects of different classes to be treated as objects of a common superclass. It enables a single interface to represent different underlying forms (data types), allowing for flexibility and the ability to invoke methods on objects without needing to know their specific class type. Here are several reasons why polymorphism is important in OOP:\n",
        "\n",
        "1. Code Reusability\n",
        "\n",
        "Polymorphism promotes code reusability by allowing the same function or method to operate on different types of objects. This means you can write more generic and reusable code that can work with any class that implements the required methods.\n",
        "\n",
        "Example: A function that takes a base class reference can work with any subclass, allowing you to reuse the same code for different types of objects.\n",
        "\n",
        "2. Flexibility and Extensibility\n",
        "\n",
        "Polymorphism allows for greater flexibility in your code. You can introduce new classes that implement the same interface or inherit from the same base class without modifying existing code. This makes it easier to extend your application with new features.\n",
        "\n",
        "Example: If you have a base class Shape with a method draw(), you can create new shapes (like Circle, Square, etc.) that implement their own version of draw(). The existing code that uses Shape can work with any new shape without changes.\n",
        "\n",
        "3. Dynamic Method Resolution\n",
        "\n",
        "Polymorphism supports dynamic (or late) binding, meaning that the method that gets executed is determined at runtime based on the object type, not the reference type. This allows for more dynamic and flexible code execution.\n",
        "\n",
        "Example: When you call a method on an object, Python determines which method to execute based on the actual object type at runtime, allowing for more dynamic behavior.\n"
      ],
      "metadata": {
        "id": "naQZcJFmIXvV"
      }
    },
    {
      "cell_type": "markdown",
      "source": [
        "15. What is an abstract class in Python?\n",
        "\n",
        "An abstract class in Python is a class that cannot be instantiated on its own and is designed to be a base class for other classes. It serves as a blueprint for other classes, defining a common interface and potentially some shared behavior, while leaving certain methods to be implemented by subclasses. Abstract classes are used to enforce a contract for subclasses, ensuring that they implement specific methods.\n",
        "\n",
        "Key Features of Abstract Classes\n",
        "\n",
        "Cannot be Instantiated: You cannot create an instance of an abstract class directly. It is meant to be subclassed.\n",
        "\n",
        "Abstract Methods: An abstract class can contain abstract methods, which are methods that are declared but contain no implementation. Subclasses must provide implementations for these methods.\n",
        "\n",
        "Concrete Methods: An abstract class can also contain concrete methods (methods with implementation) that can be inherited by subclasses.\n",
        "\n"
      ],
      "metadata": {
        "id": "0nRvKNERIzK4"
      }
    },
    {
      "cell_type": "markdown",
      "source": [
        "16. What are the advantages of OOP?\n",
        "\n",
        "Object-oriented programming (OOP) is a programming paradigm that uses \"objects\" to represent data and methods to manipulate that data. OOP has several advantages that make it a popular choice for software development. Here are some of the key advantages of OOP:\n",
        "\n",
        "1. Encapsulation\n",
        "\n",
        "Definition: Encapsulation is the bundling of data (attributes) and methods (functions) that operate on that data into a single unit, typically a class. It restricts direct access to some of the object's components.\n",
        "\n",
        "Advantage: This helps protect the integrity of the data and prevents unintended interference and misuse. It also allows for a clear separation between the interface and implementation, making the code easier to manage and understand.\n",
        "\n",
        "2. Abstraction\n",
        "\n",
        "Definition: Abstraction is the concept of hiding the complex reality while exposing only the necessary parts. It allows you to focus on high-level operations without needing to understand all the details.\n",
        "\n",
        "Advantage: This simplifies the complexity of the system, making it easier to work with and understand. It allows developers to create more user-friendly interfaces and reduces the cognitive load on users.\n",
        "\n",
        "3. Inheritance\n",
        "\n",
        "Definition: Inheritance allows a new class (subclass) to inherit attributes and methods from an existing class (superclass). This promotes code reuse and establishes a hierarchical relationship between classes.\n",
        "\n",
        "Advantage: It reduces redundancy by allowing common functionality to be defined in a base class and reused in derived classes. This leads to a more organized and maintainable codebase.\n",
        "\n",
        "4. Polymorphism\n",
        "\n",
        "Definition: Polymorphism allows objects of different classes to be treated as objects of a common superclass. It enables a single interface to represent different underlying forms (data types).\n",
        "Advantage: This provides flexibility in code, allowing for methods to be used interchangeably across different classes. It simplifies code maintenance and enhances the ability to extend systems with new functionality.\n",
        "\n",
        "5. Modularity\n",
        "\n",
        "Definition: OOP encourages the design of software in modular components (classes and objects) that can be developed, tested, and maintained independently.\n",
        "Advantage: This modularity makes it easier to manage large codebases, as changes in one module (class) do not necessarily affect others. It also facilitates collaboration among multiple developers.\n",
        "\n",
        "6. Reusability\n",
        "\n",
        "Definition: OOP promotes the reuse of existing code through inheritance and composition.\n",
        "Advantage: This leads to faster development times and reduced costs, as developers can leverage existing classes and objects rather than writing new code from scratch.\n",
        "\n",
        "7. Improved Maintainability\n",
        "\n",
        "Definition: OOP's principles of encapsulation, abstraction, and modularity contribute to better maintainability of code.\n",
        "\n",
        "Advantage: It becomes easier to update and modify code, as changes can be made to individual classes without affecting the entire system. This reduces the risk of introducing bugs during maintenance.\n",
        "\n",
        "8. Real-World Modeling\n",
        "\n",
        "Definition: OOP allows for the modeling of real-world entities and relationships through objects and classes.\n",
        "\n",
        "Advantage: This makes it easier for developers to conceptualize and design systems that reflect real-world scenarios, leading to more intuitive and effective software solutions.\n",
        "\n"
      ],
      "metadata": {
        "id": "RayujGhkJAkS"
      }
    },
    {
      "cell_type": "markdown",
      "source": [
        "17. What is the difference between a class variable and an instance variable?\n",
        "\n",
        "Class Variables\n",
        "\n",
        "Definition: Class variables are variables that are shared among all instances of a class. They are defined within the class but outside any instance methods.\n",
        "\n",
        "Scope: Class variables belong to the class itself, not to any specific instance. This means that all instances of the class share the same class variable.\n",
        "\n",
        "Access: Class variables can be accessed using the class name or through an instance of the class. However, if you modify a class variable through an instance, it will create a new instance variable with the same name for that instance, leaving the class variable unchanged.\n",
        "\n",
        "Use Case: Class variables are typically used for attributes that should have the same value across all instances, such as constants or shared data.\n",
        "\n",
        "Instance Variables\n",
        "\n",
        "Definition: Instance variables are variables that are specific to an instance of a class. They are defined within the __init__ method (or other instance methods) using the self keyword.\n",
        "\n",
        "Scope: Instance variables belong to the specific instance of the class. Each instance of the class can have different values for its instance variables.\n",
        "\n",
        "Access: Instance variables can only be accessed through the instance of the class. They cannot be accessed directly through the class name.\n",
        "\n",
        "Use Case: Instance variables are used for attributes that are unique to each instance, such as the name or age of a specific dog.\n"
      ],
      "metadata": {
        "id": "AWFNkjA0Lxia"
      }
    },
    {
      "cell_type": "markdown",
      "source": [
        "18. What is multiple inheritance in Python?\n",
        "\n",
        "Multiple inheritance is a feature in object-oriented programming (OOP) that allows a class (known as a derived class or subclass) to inherit attributes and methods from more than one parent class (superclass). This means that a single class can have multiple base classes, enabling it to combine behaviors and properties from multiple sources.\n",
        "\n",
        "Key Features of Multiple Inheritance in Python\n",
        "Combining Behaviors: Multiple inheritance allows a subclass to inherit and combine behaviors from multiple parent classes, which can be useful for creating complex classes that require functionality from different sources.\n",
        "\n",
        "Method Resolution Order (MRO): Python uses a specific algorithm (C3 linearization) to determine the order in which classes are searched when executing a method. This is important in multiple inheritance scenarios to avoid ambiguity and ensure that the correct method is called.\n",
        "\n",
        "Diamond Problem: One of the challenges of multiple inheritance is the \"diamond problem,\" which occurs when a class inherits from two classes that both inherit from a common superclass. This can lead to ambiguity about which superclass's method should be called. Python's MRO helps resolve this issue.\n",
        "\n"
      ],
      "metadata": {
        "id": "kxBXbKi7MFMz"
      }
    },
    {
      "cell_type": "markdown",
      "source": [
        "19. Explain the purpose of ‘’__str__’ and ‘__repr__’ ‘ methods in Python?\n",
        "\n",
        "In Python, the __str__ and __repr__ methods are special methods (often referred to as \"dunder\" methods, short for \"double underscore\") that define how objects of a class are represented as strings. They serve different purposes and are used in different contexts.\n",
        "\n",
        "__str__ Method\n",
        "Purpose: The __str__ method is intended to provide a \"user-friendly\" string representation of an object. It is meant to be readable and provide a clear description of the object when printed or converted to a string.\n",
        "\n",
        "Usage: This method is called by the built-in str() function and by the print() function when you try to print an object.\n",
        "\n",
        "Return Value: The __str__ method should return a string that is easy to read and understand.\n"
      ],
      "metadata": {
        "id": "6sT_S36tMY37"
      }
    },
    {
      "cell_type": "markdown",
      "source": [
        "20.What is the significance of the ‘super()’ function in Python?\n",
        "\n",
        "The super() function in Python is a built-in function that returns a temporary object of the superclass (or parent class) of a given class. It is primarily used to call methods from a parent class in a derived class, allowing for a more manageable and flexible way to access inherited methods and properties. Here are the key points regarding the significance of the super\n",
        "() function:\n",
        "\n",
        "1. Accessing Parent Class Methods\n",
        "\n",
        "The primary purpose of super() is to allow a derived class to call methods from its parent class. This is particularly useful in the context of method overriding, where a subclass provides a specific implementation of a method that is already defined in its superclass.\n",
        "\n",
        "2. Avoiding Explicit Class References\n",
        "Using super() allows you to avoid explicitly naming the parent class. This is beneficial in scenarios involving multiple inheritance, as it helps prevent issues related to class name changes and makes the code more maintainable.\n",
        "\n",
        "3. Method Resolution Order (MRO)\n",
        "In the case of multiple inheritance, super() respects the method resolution order (MRO), which determines the order in which base classes are searched when calling a method. This ensures that the correct method is called according to the inheritance hierarchy.\n",
        "\n"
      ],
      "metadata": {
        "id": "8y3pJHttNONV"
      }
    },
    {
      "cell_type": "markdown",
      "source": [
        "21.What is the significance of the __del__ method in Python?\n",
        "\n",
        "The __del__ method in Python is a special method, often referred to as a destructor, that is called when an object is about to be destroyed. It is part of the object lifecycle and is used to define cleanup actions that should be performed before an object is removed from memory. Here are the key points regarding the significance of the __del__ method:\n",
        "\n",
        "1. Resource Management\n",
        "\n",
        "The primary purpose of the __del__ method is to allow for the proper release of resources that an object may be holding, such as file handles, network connections, or database connections. This is particularly important in scenarios where resources need to be explicitly freed to avoid resource leaks.\n",
        "\n",
        "2. Custom Cleanup Logic\n",
        "You can define custom cleanup logic in the __del__ method that should be executed when an object is about to be destroyed. This can include logging, notifying other parts of the program, or performing any other necessary cleanup tasks.\n",
        "\n",
        "3. Automatic Invocation\n",
        "The __del__ method is automatically invoked when an object’s reference count reaches zero, meaning there are no more references to the object. This can happen when the object is explicitly deleted using the del statement or when it goes out of scope."
      ],
      "metadata": {
        "id": "QrMsGYEMOU3R"
      }
    },
    {
      "cell_type": "markdown",
      "source": [
        "22. What is the difference between @staticmethod and @classmethod in Python?\n",
        "\n",
        "In Python, both @staticmethod and @classmethod are decorators that define methods within a class, but they serve different purposes and have different behaviors. Here’s a detailed comparison of the two:\n",
        "\n",
        "1. Definition and Purpose\n",
        "\n",
        "@staticmethod:\n",
        "\n",
        "A static method does not receive any implicit first argument (like self or cls). It behaves like a regular function but belongs to the class's namespace.\n",
        "It is used when you want to define a method that does not need access to the instance (self) or the class (cls). Static methods are often utility functions that perform a task in isolation.\n",
        "\n",
        "@classmethod:\n",
        "\n",
        "A class method receives the class itself as the first argument (usually named cls). This allows it to access class attributes and methods.\n",
        "It is used when you want to define a method that needs to access or modify class state or when you want to create factory methods that instantiate instances of the class.\n",
        "\n",
        "2. Access to Class and Instance Data\n",
        "\n",
        "@staticmethod:\n",
        "\n",
        "Cannot access or modify class or instance data. It operates independently of the class and its instances.\n",
        "\n",
        "@classmethod:\n",
        "\n",
        "Can access and modify class state. It can also call other class methods and access class variables.\n",
        "\n",
        "3. Use Cases\n",
        "\n",
        "@staticmethod:\n",
        "\n",
        "Use static methods when you need a utility function that does not depend on class or instance data. For example, a method that performs a calculation or a helper function.\n",
        "\n",
        "@classmethod:\n",
        "\n",
        "Use class methods when you need to access or modify class-level data or when you want to provide alternative constructors for the class."
      ],
      "metadata": {
        "id": "IAWEwAt5OzjN"
      }
    },
    {
      "cell_type": "markdown",
      "source": [
        "23.How does polymorphism work in Python with inheritance?\n",
        "\n",
        "Method Overriding: Inheritance allows a subclass to provide a specific implementation of a method that is already defined in its superclass. This is known as method overriding. When you call a method on an object, Python will look for the method in the object's class first, and if it doesn't find it, it will look in the superclass.\n",
        "\n",
        "Common Interface: Polymorphism allows different classes to be treated as instances of the same class through a common interface. This is often achieved through method overriding, where different classes implement the same method in different ways.\n",
        "\n",
        "Dynamic Binding: Python uses dynamic (or late) binding, meaning that the method that gets executed is determined at runtime based on the object type, not the reference type. This allows for more flexible and dynamic code execution.\n",
        "\n",
        "\n"
      ],
      "metadata": {
        "id": "ktSe2zlLPYXe"
      }
    },
    {
      "cell_type": "markdown",
      "source": [
        "24.What is method chaining in Python OOP?\n",
        "\n",
        "Method chaining is a programming technique in object-oriented programming (OOP) where multiple method calls are made on the same object in a single statement. This is achieved by having each method return the object itself (usually using self), allowing for a sequence of method calls to be linked together. Method chaining can lead to more concise and readable code, as it reduces the need for intermediate variables and makes the flow of operations clearer.\n",
        "\n",
        "How Method Chaining Works\n",
        "\n",
        "In Python, method chaining is implemented by defining methods that return self. This allows the next method in the chain to be called on the same object."
      ],
      "metadata": {
        "id": "OdNddXx-Plry"
      }
    },
    {
      "cell_type": "markdown",
      "source": [
        "25. What is the purpose of the __call__ method in Python?\n",
        "\n",
        "The __call__ method in Python is a special method that allows an instance of a class to be called as if it were a function. When you define the __call__ method in a class, you enable instances of that class to be invoked directly, which can be useful for various design patterns and scenarios.\n",
        "\n",
        "Purpose of the __call__ Method\n",
        "Function-like Objects: By implementing the __call__ method, you can create objects that behave like functions. This allows you to encapsulate functionality within an object while still providing a callable interface.\n",
        "\n",
        "Stateful Functions: You can maintain state within the object while providing a callable interface. This is useful when you want to create a function that retains some internal state between calls.\n",
        "\n",
        "Custom Behavior: The __call__ method allows you to define custom behavior when an object is called. This can be useful for implementing specific logic that should occur when the object is invoked.\n",
        "\n",
        "Simplifying Code: It can simplify code by allowing you to use an object in a functional style, making it easier to pass around and use in higher-order functions.\n"
      ],
      "metadata": {
        "id": "LxhpBOYpQgWj"
      }
    },
    {
      "cell_type": "markdown",
      "source": [
        "1. Create a parent class Animal with a method speak() that prints a generic message. Create a child class Dog\n",
        "that overrides the speak() method to print \"Bark!\"."
      ],
      "metadata": {
        "id": "VcYBuVsoRCtN"
      }
    },
    {
      "cell_type": "code",
      "source": [
        "# Parent class\n",
        "class Animal:\n",
        "    def speak(self):\n",
        "        print(\"This animal makes a sound.\")\n",
        "\n",
        "# Child class\n",
        "class Dog(Animal):\n",
        "    def speak(self):\n",
        "        print(\"Bark!\")\n",
        "\n",
        "# Creating an instance of Animal\n",
        "generic_animal = Animal()\n",
        "generic_animal.speak()\n",
        "\n",
        "# Creating an instance of Dog\n",
        "dog = Dog()\n",
        "dog.speak()"
      ],
      "metadata": {
        "colab": {
          "base_uri": "https://localhost:8080/"
        },
        "id": "_ZY1nCaiRRWI",
        "outputId": "709e2a36-a856-4b9e-9971-ce2df9b5869d"
      },
      "execution_count": 1,
      "outputs": [
        {
          "output_type": "stream",
          "name": "stdout",
          "text": [
            "This animal makes a sound.\n",
            "Bark!\n"
          ]
        }
      ]
    },
    {
      "cell_type": "markdown",
      "source": [
        "2. Write a program to create an abstract class Shape with a method area(). Derive classes Circle and Rectangle\n",
        "from it and implement the area() method in both.\n",
        "\n",
        "\n"
      ],
      "metadata": {
        "id": "6arXul_uRr7Q"
      }
    },
    {
      "cell_type": "code",
      "source": [
        "from abc import ABC, abstractmethod\n",
        "import math\n",
        "\n",
        "# Abstract class\n",
        "class Shape(ABC):\n",
        "    @abstractmethod\n",
        "    def area(self):\n",
        "        pass\n",
        "\n",
        "# Derived class for Circle\n",
        "class Circle(Shape):\n",
        "    def __init__(self, radius):\n",
        "        self.radius = radius\n",
        "\n",
        "    def area(self):\n",
        "        return math.pi * (self.radius ** 2)  # Area of circle: πr²\n",
        "\n",
        "# Derived class for Rectangle\n",
        "class Rectangle(Shape):\n",
        "    def __init__(self, width, height):\n",
        "        self.width = width\n",
        "        self.height = height\n",
        "\n",
        "    def area(self):\n",
        "        return self.width * self.height  # Area of rectangle: width * height\n",
        "\n",
        "# Creating instances of Circle and Rectangle\n",
        "circle = Circle(5)\n",
        "rectangle = Rectangle(4, 6)\n",
        "\n",
        "# Calculating and printing the areas\n",
        "print(f\"Area of the circle: {circle.area():.2f}\")\n",
        "print(f\"Area of the rectangle: {rectangle.area()}\")"
      ],
      "metadata": {
        "colab": {
          "base_uri": "https://localhost:8080/"
        },
        "id": "iiNnCmIXR6Zf",
        "outputId": "cfb0d4ab-1c08-45f6-c867-2e0414fd7043"
      },
      "execution_count": 2,
      "outputs": [
        {
          "output_type": "stream",
          "name": "stdout",
          "text": [
            "Area of the circle: 78.54\n",
            "Area of the rectangle: 24\n"
          ]
        }
      ]
    },
    {
      "cell_type": "markdown",
      "source": [
        "3. Implement a multi-level inheritance scenario where a class Vehicle has an attribute type. Derive a class Car\n",
        "and further derive a class ElectricCar that adds a battery attribute"
      ],
      "metadata": {
        "id": "R72JqgBfSHi1"
      }
    },
    {
      "cell_type": "code",
      "source": [
        "# Base class\n",
        "class Vehicle:\n",
        "    def __init__(self, vehicle_type):\n",
        "        self.vehicle_type = vehicle_type\n",
        "\n",
        "    def display_type(self):\n",
        "        print(f\"Vehicle Type: {self.vehicle_type}\")\n",
        "\n",
        "# Derived class from Vehicle\n",
        "class Car(Vehicle):\n",
        "    def __init__(self, vehicle_type, brand):\n",
        "        super().__init__(vehicle_type)  # Call the constructor of Vehicle\n",
        "        self.brand = brand\n",
        "\n",
        "    def display_info(self):\n",
        "        print(f\"Car Brand: {self.brand}\")\n",
        "\n",
        "# Further derived class from Car\n",
        "class ElectricCar(Car):\n",
        "    def __init__(self, vehicle_type, brand, battery):\n",
        "        super().__init__(vehicle_type, brand)  # Call the constructor of Car\n",
        "        self.battery = battery\n",
        "\n",
        "    def display_battery(self):\n",
        "        print(f\"Battery Capacity: {self.battery} kWh\")\n",
        "\n",
        "# Creating an instance of ElectricCar\n",
        "my_electric_car = ElectricCar(\"Electric\", \"Tesla\", 75)\n",
        "\n",
        "# Displaying information\n",
        "my_electric_car.display_type()\n",
        "my_electric_car.display_info()\n",
        "my_electric_car.display_battery()"
      ],
      "metadata": {
        "colab": {
          "base_uri": "https://localhost:8080/"
        },
        "id": "SZzcO1P2SVXY",
        "outputId": "9acea0a2-c5cd-4a90-ca2f-e72e4f32668b"
      },
      "execution_count": 3,
      "outputs": [
        {
          "output_type": "stream",
          "name": "stdout",
          "text": [
            "Vehicle Type: Electric\n",
            "Car Brand: Tesla\n",
            "Battery Capacity: 75 kWh\n"
          ]
        }
      ]
    },
    {
      "cell_type": "markdown",
      "source": [
        "4. Implement a multi-level inheritance scenario where a class Vehicle has an attribute type. Derive a class Car\n",
        "and further derive a class ElectricCar that adds a battery attribute.\n"
      ],
      "metadata": {
        "id": "wX5Qw_HrSfHv"
      }
    },
    {
      "cell_type": "code",
      "source": [
        "# Base class\n",
        "class Vehicle:\n",
        "    def __init__(self, vehicle_type):\n",
        "        self.vehicle_type = vehicle_type  # Attribute to store the type of vehicle\n",
        "\n",
        "    def display_type(self):\n",
        "        print(f\"Vehicle Type: {self.vehicle_type}\")\n",
        "\n",
        "# Derived class from Vehicle\n",
        "class Car(Vehicle):\n",
        "    def __init__(self, vehicle_type, brand):\n",
        "        super().__init__(vehicle_type)  # Call the constructor of Vehicle\n",
        "        self.brand = brand  # Attribute to store the brand of the car\n",
        "\n",
        "    def display_info(self):\n",
        "        print(f\"Car Brand: {self.brand}\")\n",
        "\n",
        "# Further derived class from Car\n",
        "class ElectricCar(Car):\n",
        "    def __init__(self, vehicle_type, brand, battery):\n",
        "        super().__init__(vehicle_type, brand)  # Call the constructor of Car\n",
        "        self.battery = battery  # Attribute to store the battery capacity\n",
        "\n",
        "    def display_battery(self):\n",
        "        print(f\"Battery Capacity: {self.battery} kWh\")\n",
        "\n",
        "# Creating an instance of ElectricCar\n",
        "my_electric_car = ElectricCar(\"Electric\", \"Tesla\", 75)\n",
        "\n",
        "# Displaying information\n",
        "my_electric_car.display_type()\n",
        "my_electric_car.display_info()\n",
        "my_electric_car.display_battery()"
      ],
      "metadata": {
        "colab": {
          "base_uri": "https://localhost:8080/"
        },
        "id": "r83Dsj73SrGM",
        "outputId": "a03ad9b8-dc4f-4bd6-a5df-879c43d0fc9a"
      },
      "execution_count": 4,
      "outputs": [
        {
          "output_type": "stream",
          "name": "stdout",
          "text": [
            "Vehicle Type: Electric\n",
            "Car Brand: Tesla\n",
            "Battery Capacity: 75 kWh\n"
          ]
        }
      ]
    },
    {
      "cell_type": "markdown",
      "source": [
        "5. Write a program to demonstrate encapsulation by creating a class BankAccount with private attributes\n",
        "balance and methods to deposit, withdraw, and check balance."
      ],
      "metadata": {
        "id": "dtD06fINS5EQ"
      }
    },
    {
      "cell_type": "code",
      "source": [
        "class BankAccount:\n",
        "    def __init__(self):\n",
        "        self.__balance = 0  # Private attribute for balance\n",
        "\n",
        "    def deposit(self, amount):\n",
        "        if amount > 0:\n",
        "            self.__balance += amount  # Increase balance\n",
        "            print(f\"Deposited: ${amount:.2f}\")\n",
        "        else:\n",
        "            print(\"Deposit amount must be positive.\")\n",
        "\n",
        "    def withdraw(self, amount):\n",
        "        if 0 < amount <= self.__balance:\n",
        "            self.__balance -= amount  # Decrease balance\n",
        "            print(f\"Withdrew: ${amount:.2f}\")\n",
        "        elif amount > self.__balance:\n",
        "            print(\"Insufficient funds.\")\n",
        "        else:\n",
        "            print(\"Withdrawal amount must be positive.\")\n",
        "\n",
        "    def check_balance(self):\n",
        "        print(f\"Current Balance: ${self.__balance:.2f}\")\n",
        "\n",
        "# Creating an instance of BankAccount\n",
        "account = BankAccount()\n",
        "\n",
        "# Demonstrating the functionality\n",
        "account.deposit(100)\n",
        "account.check_balance()\n",
        "account.withdraw(30)\n",
        "account.check_balance()\n",
        "account.withdraw(100)"
      ],
      "metadata": {
        "colab": {
          "base_uri": "https://localhost:8080/"
        },
        "id": "xSw6SlZfS6G9",
        "outputId": "d9f278ab-5c06-470d-cbe8-3740e782184d"
      },
      "execution_count": 5,
      "outputs": [
        {
          "output_type": "stream",
          "name": "stdout",
          "text": [
            "Deposited: $100.00\n",
            "Current Balance: $100.00\n",
            "Withdrew: $30.00\n",
            "Current Balance: $70.00\n",
            "Insufficient funds.\n"
          ]
        }
      ]
    },
    {
      "cell_type": "markdown",
      "source": [
        "6. Demonstrate runtime polymorphism using a method play() in a base class Instrument. Derive classes Guitar\n",
        "and Piano that implement their own version of play()."
      ],
      "metadata": {
        "id": "b1l83KthTPcQ"
      }
    },
    {
      "cell_type": "code",
      "source": [
        "# Base class\n",
        "class Instrument:\n",
        "    def play(self):\n",
        "        raise NotImplementedError(\"Subclasses must implement this method\")\n",
        "\n",
        "# Derived class for Guitar\n",
        "class Guitar(Instrument):\n",
        "    def play(self):\n",
        "        return \"Strumming the guitar!\"\n",
        "\n",
        "# Derived class for Piano\n",
        "class Piano(Instrument):\n",
        "    def play(self):\n",
        "        return \"Playing the piano!\"\n",
        "\n",
        "# Function to demonstrate polymorphism\n",
        "def make_instrument_play(instrument):\n",
        "    print(instrument.play())\n",
        "\n",
        "# Creating instances of Guitar and Piano\n",
        "guitar = Guitar()\n",
        "piano = Piano()\n",
        "\n",
        "# Demonstrating runtime polymorphism\n",
        "make_instrument_play(guitar)\n",
        "make_instrument_play(piano)"
      ],
      "metadata": {
        "colab": {
          "base_uri": "https://localhost:8080/"
        },
        "id": "DH5ct2smTQx9",
        "outputId": "0f6bb803-a3c9-4b8a-ea05-8b5d22d25288"
      },
      "execution_count": 6,
      "outputs": [
        {
          "output_type": "stream",
          "name": "stdout",
          "text": [
            "Strumming the guitar!\n",
            "Playing the piano!\n"
          ]
        }
      ]
    },
    {
      "cell_type": "markdown",
      "source": [
        "7. Create a class MathOperations with a class method add_numbers() to add two numbers and a static\n",
        "method subtract_numbers() to subtract two numbers."
      ],
      "metadata": {
        "id": "u1lV_eeGTZKL"
      }
    },
    {
      "cell_type": "code",
      "source": [
        "class MathOperations:\n",
        "    @classmethod\n",
        "    def add_numbers(cls, a, b):\n",
        "        \"\"\"Class method to add two numbers.\"\"\"\n",
        "        return a + b\n",
        "\n",
        "    @staticmethod\n",
        "    def subtract_numbers(a, b):\n",
        "        \"\"\"Static method to subtract two numbers.\"\"\"\n",
        "        return a - b\n",
        "\n",
        "# Demonstrating the usage of the methods\n",
        "result_add = MathOperations.add_numbers(10, 5)\n",
        "result_subtract = MathOperations.subtract_numbers(10, 5)\n",
        "\n",
        "print(f\"Addition Result: {result_add}\")\n",
        "print(f\"Subtraction Result: {result_subtract}\")"
      ],
      "metadata": {
        "colab": {
          "base_uri": "https://localhost:8080/"
        },
        "id": "ySpIrbqUTfg2",
        "outputId": "bd2bbaeb-3627-43fa-a022-18cdabba4530"
      },
      "execution_count": 7,
      "outputs": [
        {
          "output_type": "stream",
          "name": "stdout",
          "text": [
            "Addition Result: 15\n",
            "Subtraction Result: 5\n"
          ]
        }
      ]
    },
    {
      "cell_type": "markdown",
      "source": [
        "8. Implement a class Person with a class method to count the total number of persons created?"
      ],
      "metadata": {
        "id": "eukU4IEKTwGu"
      }
    },
    {
      "cell_type": "code",
      "source": [
        "class Person:\n",
        "    # Class variable to keep track of the number of Person instances\n",
        "    total_persons = 0\n",
        "\n",
        "    def __init__(self, name):\n",
        "        self.name = name  # Instance variable for the person's name\n",
        "        Person.total_persons += 1  # Increment the count when a new instance is created\n",
        "\n",
        "    @classmethod\n",
        "    def count_persons(cls):\n",
        "        \"\"\"Class method to return the total number of Person instances created.\"\"\"\n",
        "        return cls.total_persons\n",
        "\n",
        "# Creating instances of Person\n",
        "person1 = Person(\"Alice\")\n",
        "person2 = Person(\"Bob\")\n",
        "person3 = Person(\"Charlie\")\n",
        "\n",
        "# Using the class method to count the total number of persons created\n",
        "total_count = Person.count_persons()\n",
        "print(f\"Total number of persons created: {total_count}\")"
      ],
      "metadata": {
        "colab": {
          "base_uri": "https://localhost:8080/"
        },
        "id": "b6f6_zhHT379",
        "outputId": "6533ff96-73a4-4462-c5ae-b5f40e724cf3"
      },
      "execution_count": 8,
      "outputs": [
        {
          "output_type": "stream",
          "name": "stdout",
          "text": [
            "Total number of persons created: 3\n"
          ]
        }
      ]
    },
    {
      "cell_type": "markdown",
      "source": [
        "9. Write a class Fraction with attributes numerator and denominator. Override the str method to display the\n",
        "fraction as \"numerator/denominator\"."
      ],
      "metadata": {
        "id": "Nl0pgm23UARm"
      }
    },
    {
      "cell_type": "code",
      "source": [
        "class Fraction:\n",
        "    def __init__(self, numerator, denominator):\n",
        "        if denominator == 0:\n",
        "            raise ValueError(\"Denominator cannot be zero.\")\n",
        "        self.numerator = numerator\n",
        "        self.denominator = denominator\n",
        "\n",
        "    def __str__(self):\n",
        "        return f\"{self.numerator}/{self.denominator}\"\n",
        "\n",
        "# Creating instances of Fraction\n",
        "fraction1 = Fraction(3, 4)\n",
        "fraction2 = Fraction(5, 2)\n",
        "\n",
        "# Displaying the fractions\n",
        "print(fraction1)\n",
        "print(fraction2)"
      ],
      "metadata": {
        "colab": {
          "base_uri": "https://localhost:8080/"
        },
        "id": "YPdgEgh5UJ9e",
        "outputId": "c3eb9049-63da-4c78-8e54-5883151a1e3a"
      },
      "execution_count": 9,
      "outputs": [
        {
          "output_type": "stream",
          "name": "stdout",
          "text": [
            "3/4\n",
            "5/2\n"
          ]
        }
      ]
    },
    {
      "cell_type": "markdown",
      "source": [
        "10. Demonstrate operator overloading by creating a class Vector and overriding the add method to add two\n",
        "vectors.\n",
        "\n",
        "\n"
      ],
      "metadata": {
        "id": "sJTGmrCAUPGl"
      }
    },
    {
      "cell_type": "code",
      "source": [
        "class Vector:\n",
        "    def __init__(self, x, y):\n",
        "        self.x = x  # x-coordinate\n",
        "        self.y = y  # y-coordinate\n",
        "\n",
        "    def __add__(self, other):\n",
        "        \"\"\"Overload the + operator to add two vectors.\"\"\"\n",
        "        if isinstance(other, Vector):\n",
        "            return Vector(self.x + other.x, self.y + other.y)\n",
        "        return NotImplemented\n",
        "\n",
        "    def __str__(self):\n",
        "        \"\"\"Return a string representation of the vector.\"\"\"\n",
        "        return f\"Vector({self.x}, {self.y})\"\n",
        "\n",
        "# Creating instances of Vector\n",
        "vector1 = Vector(2, 3)\n",
        "vector2 = Vector(4, 5)\n",
        "\n",
        "# Adding two vectors using the overloaded + operator\n",
        "result_vector = vector1 + vector2\n",
        "\n",
        "# Displaying the result\n",
        "print(f\"Vector 1: {vector1}\")\n",
        "print(f\"Vector 2: {vector2}\")\n",
        "print(f\"Resultant Vector: {result_vector}\")"
      ],
      "metadata": {
        "colab": {
          "base_uri": "https://localhost:8080/"
        },
        "id": "KVOG4BhHUjHL",
        "outputId": "eb2b5886-bb43-44c5-fc2b-d2140504ecd6"
      },
      "execution_count": 10,
      "outputs": [
        {
          "output_type": "stream",
          "name": "stdout",
          "text": [
            "Vector 1: Vector(2, 3)\n",
            "Vector 2: Vector(4, 5)\n",
            "Resultant Vector: Vector(6, 8)\n"
          ]
        }
      ]
    },
    {
      "cell_type": "markdown",
      "source": [
        "11. Create a class Person with attributes name and age. Add a method greet() that prints \"Hello, my name is\n",
        "{name} and I am {age} years old."
      ],
      "metadata": {
        "id": "Bg2tphmDU34w"
      }
    },
    {
      "cell_type": "code",
      "source": [
        "class Person:\n",
        "    def __init__(self, name, age):\n",
        "        self.name = name  # Attribute for the person's name\n",
        "        self.age = age    # Attribute for the person's age\n",
        "\n",
        "    def greet(self):\n",
        "        \"\"\"Method to greet the person.\"\"\"\n",
        "        print(f\"Hello, my name is {self.name} and I am {self.age} years old.\")\n",
        "\n",
        "# Creating an instance of Person\n",
        "person1 = Person(\"Alice\", 30)\n",
        "\n",
        "# Calling the greet method\n",
        "person1.greet()"
      ],
      "metadata": {
        "colab": {
          "base_uri": "https://localhost:8080/"
        },
        "id": "Kqr6uCJpVCiZ",
        "outputId": "f586f8b9-e08e-4dc6-f75f-e2efefe4b657"
      },
      "execution_count": 11,
      "outputs": [
        {
          "output_type": "stream",
          "name": "stdout",
          "text": [
            "Hello, my name is Alice and I am 30 years old.\n"
          ]
        }
      ]
    },
    {
      "cell_type": "markdown",
      "source": [
        "12. Implement a class Student with attributes name and grades. Create a method average_grade() to compute\n",
        "the average of the grades."
      ],
      "metadata": {
        "id": "VmTuGuKaVIgx"
      }
    },
    {
      "cell_type": "code",
      "source": [
        "class Student:\n",
        "    def __init__(self, name, grades):\n",
        "        self.name = name  # Attribute for the student's name\n",
        "        self.grades = grades  # Attribute for the student's grades (list of grades)\n",
        "\n",
        "    def average_grade(self):\n",
        "        \"\"\"Method to compute the average of the grades.\"\"\"\n",
        "        if not self.grades:  # Check if the grades list is empty\n",
        "            return 0  # Return 0 if there are no grades\n",
        "        return sum(self.grades) / len(self.grades)  # Calculate and return the average\n",
        "\n",
        "# Creating an instance of Student\n",
        "student1 = Student(\"Alice\", [85, 90, 78, 92, 88])\n",
        "\n",
        "# Calling the average_grade method\n",
        "average = student1.average_grade()\n",
        "print(f\"{student1.name}'s average grade is: {average:.2f}\")"
      ],
      "metadata": {
        "colab": {
          "base_uri": "https://localhost:8080/"
        },
        "id": "bQCgr57SVMiT",
        "outputId": "c52960e2-56ec-4b16-b940-6ffc420d4568"
      },
      "execution_count": 12,
      "outputs": [
        {
          "output_type": "stream",
          "name": "stdout",
          "text": [
            "Alice's average grade is: 86.60\n"
          ]
        }
      ]
    },
    {
      "cell_type": "markdown",
      "source": [
        "13. Create a class Rectangle with methods set_dimensions() to set the dimensions and area() to calculate the\n",
        "area."
      ],
      "metadata": {
        "id": "04sNqVaRVVHN"
      }
    },
    {
      "cell_type": "code",
      "source": [
        "class Rectangle:\n",
        "    def __init__(self):\n",
        "        self.width = 0  # Initialize width\n",
        "        self.height = 0  # Initialize height\n",
        "\n",
        "    def set_dimensions(self, width, height):\n",
        "        \"\"\"Method to set the dimensions of the rectangle.\"\"\"\n",
        "        self.width = width\n",
        "        self.height = height\n",
        "\n",
        "    def area(self):\n",
        "        \"\"\"Method to calculate the area of the rectangle.\"\"\"\n",
        "        return self.width * self.height\n",
        "\n",
        "# Creating an instance of Rectangle\n",
        "rectangle = Rectangle()\n",
        "\n",
        "# Setting dimensions\n",
        "rectangle.set_dimensions(5, 10)\n",
        "\n",
        "# Calculating the area\n",
        "area = rectangle.area()\n",
        "print(f\"The area of the rectangle is: {area}\")"
      ],
      "metadata": {
        "colab": {
          "base_uri": "https://localhost:8080/"
        },
        "id": "6hX5HJCUVaPj",
        "outputId": "302e13e7-226d-4aff-a412-c46ac95abeed"
      },
      "execution_count": 13,
      "outputs": [
        {
          "output_type": "stream",
          "name": "stdout",
          "text": [
            "The area of the rectangle is: 50\n"
          ]
        }
      ]
    },
    {
      "cell_type": "markdown",
      "source": [
        "14. Create a class Employee with a method calculate_salary() that computes the salary based on hours worked\n",
        "and hourly rate. Create a derived class Manager that adds a bonus to the salary."
      ],
      "metadata": {
        "id": "WUVN0k0lVmgU"
      }
    },
    {
      "cell_type": "code",
      "source": [
        "class Employee:\n",
        "    def __init__(self, name, hours_worked, hourly_rate):\n",
        "        self.name = name  # Employee's name\n",
        "        self.hours_worked = hours_worked  # Hours worked by the employee\n",
        "        self.hourly_rate = hourly_rate  # Hourly rate of the employee\n",
        "\n",
        "    def calculate_salary(self):\n",
        "        \"\"\"Method to calculate the salary based on hours worked and hourly rate.\"\"\"\n",
        "        return self.hours_worked * self.hourly_rate\n",
        "\n",
        "class Manager(Employee):\n",
        "    def __init__(self, name, hours_worked, hourly_rate, bonus):\n",
        "        super().__init__(name, hours_worked, hourly_rate)  # Call the constructor of Employee\n",
        "        self.bonus = bonus  # Bonus for the manager\n",
        "\n",
        "    def calculate_salary(self):\n",
        "        \"\"\"Override the calculate_salary method to include the bonus.\"\"\"\n",
        "        base_salary = super().calculate_salary()  # Get the base salary from Employee\n",
        "        return base_salary + self.bonus  # Add the bonus to the base salary\n",
        "\n",
        "# Creating an instance of Employee\n",
        "employee = Employee(\"jiana\", 40, 20)\n",
        "salary_employee = employee.calculate_salary()\n",
        "print(f\"{employee.name}'s salary: ${salary_employee:.2f}\")\n",
        "\n",
        "# Creating an instance of Manager\n",
        "manager = Manager(\"jeet\", 40, 25, 500)\n",
        "salary_manager = manager.calculate_salary()\n",
        "print(f\"{manager.name}'s salary: ${salary_manager:.2f}\")"
      ],
      "metadata": {
        "colab": {
          "base_uri": "https://localhost:8080/"
        },
        "id": "ltOPUTdMVpUt",
        "outputId": "76b68e6d-d94d-47f3-f386-a92a9c5b54a3"
      },
      "execution_count": 15,
      "outputs": [
        {
          "output_type": "stream",
          "name": "stdout",
          "text": [
            "jiana's salary: $800.00\n",
            "jeet's salary: $1500.00\n"
          ]
        }
      ]
    },
    {
      "cell_type": "markdown",
      "source": [
        "15. Create a class Product with attributes name, price, and quantity. Implement a method total_price() that\n",
        "calculates the total price of the product."
      ],
      "metadata": {
        "id": "WyLRvv2dWCbk"
      }
    },
    {
      "cell_type": "code",
      "source": [
        "class Product:\n",
        "    def __init__(self, name, price, quantity):\n",
        "        self.name = name        # Attribute for the product's name\n",
        "        self.price = price      # Attribute for the product's price\n",
        "        self.quantity = quantity  # Attribute for the product's quantity\n",
        "\n",
        "    def total_price(self):\n",
        "        \"\"\"Method to calculate the total price of the product.\"\"\"\n",
        "        return self.price * self.quantity  # Calculate total price\n",
        "\n",
        "# Creating an instance of Product\n",
        "product = Product(\"Laptop\", 999.99, 3)\n",
        "\n",
        "# Calculating the total price\n",
        "total = product.total_price()\n",
        "print(f\"The total price for {product.quantity} {product.name}(s) is: ${total:.2f}\")"
      ],
      "metadata": {
        "colab": {
          "base_uri": "https://localhost:8080/"
        },
        "id": "9-U7I1_uWHSz",
        "outputId": "27ae221d-3a6a-48c8-816d-b34eb7628342"
      },
      "execution_count": 16,
      "outputs": [
        {
          "output_type": "stream",
          "name": "stdout",
          "text": [
            "The total price for 3 Laptop(s) is: $2999.97\n"
          ]
        }
      ]
    },
    {
      "cell_type": "markdown",
      "source": [
        "16. Create a class Animal with an abstract method sound(). Create two derived classes Cow and Sheep that\n",
        "implement the sound() method."
      ],
      "metadata": {
        "id": "lU9_PQOpWVs3"
      }
    },
    {
      "cell_type": "code",
      "source": [
        "from abc import ABC, abstractmethod\n",
        "\n",
        "# Abstract class\n",
        "class Animal(ABC):\n",
        "    @abstractmethod\n",
        "    def sound(self):\n",
        "        \"\"\"Abstract method to be implemented by derived classes.\"\"\"\n",
        "        pass\n",
        "\n",
        "# Derived class for Cow\n",
        "class Cow(Animal):\n",
        "    def sound(self):\n",
        "        \"\"\"Implement the sound method for Cow.\"\"\"\n",
        "        return \"Moo!\"\n",
        "\n",
        "# Derived class for Sheep\n",
        "class Sheep(Animal):\n",
        "    def sound(self):\n",
        "        \"\"\"Implement the sound method for Sheep.\"\"\"\n",
        "        return \"Baa!\"\n",
        "\n",
        "# Creating instances of Cow and Sheep\n",
        "cow = Cow()\n",
        "sheep = Sheep()\n",
        "\n",
        "# Demonstrating the sound method\n",
        "print(f\"The cow says: {cow.sound()}\")\n",
        "print(f\"The sheep says: {sheep.sound()}\")"
      ],
      "metadata": {
        "colab": {
          "base_uri": "https://localhost:8080/"
        },
        "id": "S8-Meg71WfG9",
        "outputId": "c757ed32-c98e-4119-d1aa-ce5fe0a66d6f"
      },
      "execution_count": 17,
      "outputs": [
        {
          "output_type": "stream",
          "name": "stdout",
          "text": [
            "The cow says: Moo!\n",
            "The sheep says: Baa!\n"
          ]
        }
      ]
    },
    {
      "cell_type": "markdown",
      "source": [
        "17. Create a class Book with attributes title, author, and year_published. Add a method get_book_info() that\n",
        "returns a formatted string with the book's details.\n",
        "\n",
        "\n"
      ],
      "metadata": {
        "id": "oppAsmekWlFa"
      }
    },
    {
      "cell_type": "code",
      "source": [
        "class Book:\n",
        "    def __init__(self, title, author, year_published):\n",
        "        self.title = title              # Attribute for the book's title\n",
        "        self.author = author            # Attribute for the book's author\n",
        "        self.year_published = year_published  # Attribute for the year the book was published\n",
        "\n",
        "    def get_book_info(self):\n",
        "        \"\"\"Method to return formatted string with the book's details.\"\"\"\n",
        "        return f\"'{self.title}' by {self.author}, published in {self.year_published}.\"\n",
        "\n",
        "# Creating an instance of Book\n",
        "book1 = Book(\"To Kill a Mockingbird\", \"Harper Lee\", 1960)\n",
        "\n",
        "# Getting the book information\n",
        "book_info = book1.get_book_info()\n",
        "print(book_info)"
      ],
      "metadata": {
        "colab": {
          "base_uri": "https://localhost:8080/"
        },
        "id": "ieNxSOGDWqLj",
        "outputId": "0e1f6faa-1e30-4d23-b249-600172c6c12f"
      },
      "execution_count": 18,
      "outputs": [
        {
          "output_type": "stream",
          "name": "stdout",
          "text": [
            "'To Kill a Mockingbird' by Harper Lee, published in 1960.\n"
          ]
        }
      ]
    },
    {
      "cell_type": "markdown",
      "source": [
        "18. Create a class House with attributes address and price. Create a derived class Mansion that adds an\n",
        "attribute number_of_rooms."
      ],
      "metadata": {
        "id": "qNo8x7wLW0n6"
      }
    },
    {
      "cell_type": "code",
      "source": [
        "class House:\n",
        "    def __init__(self, address, price):\n",
        "        self.address = address  # Attribute for the house's address\n",
        "        self.price = price      # Attribute for the house's price\n",
        "\n",
        "    def get_info(self):\n",
        "        \"\"\"Method to return information about the house.\"\"\"\n",
        "        return f\"House located at {self.address} is priced at ${self.price:.2f}.\"\n",
        "\n",
        "# Derived class for Mansion\n",
        "class Mansion(House):\n",
        "    def __init__(self, address, price, number_of_rooms):\n",
        "        super().__init__(address, price)  # Call the constructor of House\n",
        "        self.number_of_rooms = number_of_rooms  # Attribute for the number of rooms in the mansion\n",
        "\n",
        "    def get_info(self):\n",
        "        \"\"\"Override the get_info method to include the number of rooms.\"\"\"\n",
        "        base_info = super().get_info()  # Get the base house information\n",
        "        return f\"{base_info} It has {self.number_of_rooms} rooms.\"\n",
        "\n",
        "# Creating an instance of House\n",
        "house = House(\"123 Main St\", 250000)\n",
        "print(house.get_info())\n",
        "\n",
        "# Creating an instance of Mansion\n",
        "mansion = Mansion(\"456 Luxury Ave\", 1500000, 10)\n",
        "print(mansion.get_info())"
      ],
      "metadata": {
        "colab": {
          "base_uri": "https://localhost:8080/"
        },
        "id": "rtuLKamwW1n9",
        "outputId": "d65a2f34-894f-4554-96e9-26631e791508"
      },
      "execution_count": 19,
      "outputs": [
        {
          "output_type": "stream",
          "name": "stdout",
          "text": [
            "House located at 123 Main St is priced at $250000.00.\n",
            "House located at 456 Luxury Ave is priced at $1500000.00. It has 10 rooms.\n"
          ]
        }
      ]
    }
  ]
}